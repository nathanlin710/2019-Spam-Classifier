{
 "cells": [
  {
   "cell_type": "code",
   "execution_count": 3,
   "metadata": {
    "scrolled": true
   },
   "outputs": [
    {
     "name": "stdout",
     "output_type": "stream",
     "text": [
      "['10-27-2017.tweets', '10-27-2017.tweets.TRUE', 'RT']\n",
      "181\n"
     ]
    }
   ],
   "source": [
    "import pandas as pd\n",
    "import csv\n",
    "\n",
    "listings = []\n",
    "csv_arr = []\n",
    "file_name = 'data/10-27-2017.tweets.xlsx'\n",
    "xls = pd.ExcelFile(file_name)\n",
    "print(xls.sheet_names)\n",
    "for sheetname in [xls.sheet_names[0], xls.sheet_names[1]]:\n",
    "    listing = pd.read_excel(file_name, sheet_name=sheetname)\n",
    "    listings.append(listing)\n",
    "\n",
    "for listing in listings:\n",
    "    # print(list(listing))\n",
    "    # get \"T/F\" location\n",
    "    answer_index = (list(listing)).index(\"T/F\")\n",
    "    # get \"Tweet Text\" location\n",
    "    text_index = (list(listing)).index(\"Tweet Text\")\n",
    "    for index, row in listing.iterrows():\n",
    "        # skip 1st row as it is headers\n",
    "        if index == 0:\n",
    "            continue\n",
    "\n",
    "        answer = row[answer_index]\n",
    "        text = row[text_index]\n",
    "\n",
    "        if answer == 0:\n",
    "            answer = 'spam'\n",
    "        else:\n",
    "            answer = 'ham'\n",
    "        csv_arr.append([answer, text])\n",
    "print(len(csv_arr))\n",
    "\n",
    "# write csv\n",
    "with open('test.csv', 'w', newline='') as csvfile:\n",
    "    spamwriter = csv.writer(csvfile, delimiter=',',\n",
    "            quotechar='\"', quoting=csv.QUOTE_MINIMAL)\n",
    "    spamwriter.writerow(['v1', 'v2'])\n",
    "\n",
    "    for row in csv_arr:\n",
    "        spamwriter.writerow(row)"
   ]
  },
  {
   "cell_type": "code",
   "execution_count": 4,
   "metadata": {},
   "outputs": [
    {
     "name": "stdout",
     "output_type": "stream",
     "text": [
      "train data:\n",
      "ham     55\n",
      "spam    45\n",
      "Name: v1, dtype: int64\n",
      "test data:\n",
      "ham     80\n",
      "spam     1\n",
      "Name: v1, dtype: int64\n",
      "score: 0.9135802469135802\n"
     ]
    }
   ],
   "source": [
    "from sklearn.naive_bayes import *\n",
    "from sklearn.dummy import *\n",
    "from sklearn.ensemble import *\n",
    "from sklearn.neighbors import *\n",
    "from sklearn.tree import *\n",
    "from sklearn.feature_extraction.text import CountVectorizer\n",
    "from sklearn.feature_extraction.text import TfidfVectorizer\n",
    "from sklearn.feature_extraction.text import HashingVectorizer\n",
    "from sklearn.calibration import *\n",
    "from sklearn.linear_model import *\n",
    "from sklearn.multiclass import *\n",
    "from sklearn.svm import *\n",
    "import pandas\n",
    "import csv\n",
    "\n",
    "data = pandas.read_csv('test.csv', sep=',', header=0)\n",
    "#print(data.columns.tolist())\n",
    "\n",
    "# we have total 182 rows in onebig.csv\n",
    "# use 100 for training\n",
    "train_data = data[:100] \n",
    "test_data = data[100:] \n",
    "print('train data:')\n",
    "print((train_data.v1).value_counts())\n",
    "print('test data:')\n",
    "print(((test_data.v1).value_counts()))\n",
    "classifier = OneVsRestClassifier(SVC(kernel='linear'))\n",
    "vectorizer = TfidfVectorizer()\n",
    "\n",
    "# train\n",
    "vectorize_text = vectorizer.fit_transform(train_data.v2)\n",
    "classifier.fit(vectorize_text, train_data.v1)\n",
    "\n",
    "# score\n",
    "vectorize_text = vectorizer.transform(test_data.v2)\n",
    "score = classifier.score(vectorize_text, test_data.v1)\n",
    "print('score: {}'.format(score))\n",
    "\n",
    "\n",
    "csv_arr = []\n",
    "for index, row in test_data.iterrows():\n",
    "    answer = row[0]\n",
    "    text = row[1]\n",
    "    vectorize_text = vectorizer.transform([text])\n",
    "    predict = classifier.predict(vectorize_text)[0]\n",
    "    if predict == answer:\n",
    "        result = 'right'\n",
    "    else:\n",
    "        result = 'wrong'\n",
    "    csv_arr.append([len(csv_arr), text, answer, predict, result])\n",
    "\n",
    "\n",
    "# write csv\n",
    "with open('test_score.csv', 'w', newline='') as csvfile:\n",
    "    spamwriter = csv.writer(csvfile, delimiter=';',\n",
    "            quotechar='\"', quoting=csv.QUOTE_MINIMAL)\n",
    "    spamwriter.writerow(['#', 'text', 'answer', 'predict', result])\n",
    "\n",
    "    for row in csv_arr:\n",
    "        spamwriter.writerow(row)"
   ]
  },
  {
   "cell_type": "code",
   "execution_count": null,
   "metadata": {},
   "outputs": [],
   "source": []
  }
 ],
 "metadata": {
  "kernelspec": {
   "display_name": "Python 3",
   "language": "python",
   "name": "python3"
  },
  "language_info": {
   "codemirror_mode": {
    "name": "ipython",
    "version": 3
   },
   "file_extension": ".py",
   "mimetype": "text/x-python",
   "name": "python",
   "nbconvert_exporter": "python",
   "pygments_lexer": "ipython3",
   "version": "3.7.3"
  }
 },
 "nbformat": 4,
 "nbformat_minor": 2
}
